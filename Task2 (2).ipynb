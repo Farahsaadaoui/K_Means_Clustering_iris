{
 "cells": [
  {
   "cell_type": "markdown",
   "id": "c877d5d6",
   "metadata": {},
   "source": [
    "# importing libraries and reading data "
   ]
  },
  {
   "cell_type": "code",
   "execution_count": 129,
   "id": "d324123f",
   "metadata": {},
   "outputs": [],
   "source": [
    "import matplotlib.pyplot as plt\n",
    "from kneed import KneeLocator\n",
    "from sklearn.cluster import KMeans\n",
    "import pandas as pd\n",
    "import numpy as np\n",
    "import lux\n",
    "from sklearn.model_selection import train_test_split\n",
    "from sklearn.linear_model import LinearRegression\n",
    "from sklearn.metrics import mean_squared_error \n",
    "from sklearn.preprocessing import StandardScaler\n",
    "data=pd.read_csv(\"iris.csv\")\n"
   ]
  },
  {
   "cell_type": "markdown",
   "id": "42484075",
   "metadata": {},
   "source": [
    "#  Extracting the useful data"
   ]
  },
  {
   "cell_type": "code",
   "execution_count": 130,
   "id": "7239cd41",
   "metadata": {},
   "outputs": [],
   "source": [
    "data=data.iloc[:, [ 1, 2, 3,4]]"
   ]
  },
  {
   "cell_type": "markdown",
   "id": "f572fb8b",
   "metadata": {},
   "source": [
    "# Finding the optimum number of clusters for k-means classification"
   ]
  },
  {
   "cell_type": "code",
   "execution_count": 131,
   "id": "54d01713",
   "metadata": {},
   "outputs": [
    {
     "name": "stderr",
     "output_type": "stream",
     "text": [
      "C:\\Users\\Farah\\anaconda3\\lib\\site-packages\\sklearn\\cluster\\_kmeans.py:1036: UserWarning:KMeans is known to have a memory leak on Windows with MKL, when there are less chunks than available threads. You can avoid it by setting the environment variable OMP_NUM_THREADS=1.\n"
     ]
    }
   ],
   "source": [
    "sse=[]\n",
    "for k in range(1,11):\n",
    "    Kmeans=KMeans(\n",
    "        init=\"k-means++\",\n",
    "        n_clusters=k,\n",
    "        n_init=10,\n",
    "        max_iter=300)\n",
    "    Kmeans.fit(data)\n",
    "    sse.append(Kmeans.inertia_)\n",
    "    \n"
   ]
  },
  {
   "cell_type": "markdown",
   "id": "54f3b1dc",
   "metadata": {},
   "source": [
    "<h2>Here we plot the line graph to observe the \"elbow\"</h2>"
   ]
  },
  {
   "cell_type": "code",
   "execution_count": 132,
   "id": "b94e98bc",
   "metadata": {},
   "outputs": [
    {
     "data": {
      "image/png": "[encoded data removed]",
      "text/plain": [
       "<Figure size 432x288 with 1 Axes>"
      ]
     },
     "metadata": {
      "needs_background": "light"
     },
     "output_type": "display_data"
    }
   ],
   "source": [
    "plt.plot(range(1,11),sse)\n",
    "plt.title('The elbow method')\n",
    "plt.xlabel('Number of clusters')\n",
    "plt.ylabel('SSE')\n",
    "plt.show()"
   ]
  },
  {
   "cell_type": "markdown",
   "id": "cdba9dd0",
   "metadata": {},
   "source": [
    "<h4>we have to select the value of k at the “elbow” ie the point after which the distortion/inertia start decreasing in a linear fashion. Thus for the given data, we conclude that the optimal number of clusters for the data is 3.</h4>"
   ]
  },
  {
   "cell_type": "code",
   "execution_count": 147,
   "id": "da9ec74b",
   "metadata": {},
   "outputs": [
    {
     "data": {
      "text/plain": [
       "array([1, 1, 1, 1, 1, 1, 1, 1, 1, 1, 1, 1, 1, 1, 1, 1, 1, 1, 1, 1, 1, 1,\n",
       "       1, 1, 1, 1, 1, 1, 1, 1, 1, 1, 1, 1, 1, 1, 1, 1, 1, 1, 1, 1, 1, 1,\n",
       "       1, 1, 1, 1, 1, 1, 0, 0, 2, 0, 0, 0, 0, 0, 0, 0, 0, 0, 0, 0, 0, 0,\n",
       "       0, 0, 0, 0, 0, 0, 0, 0, 0, 0, 0, 2, 0, 0, 0, 0, 0, 0, 0, 0, 0, 0,\n",
       "       0, 0, 0, 0, 0, 0, 0, 0, 0, 0, 0, 0, 2, 0, 2, 2, 2, 2, 0, 2, 2, 2,\n",
       "       2, 2, 2, 0, 0, 2, 2, 2, 2, 0, 2, 0, 2, 0, 2, 2, 0, 0, 2, 2, 2, 2,\n",
       "       2, 0, 2, 2, 2, 2, 0, 2, 2, 2, 0, 2, 2, 2, 0, 2, 2, 0])"
      ]
     },
     "execution_count": 147,
     "metadata": {},
     "output_type": "execute_result"
    }
   ],
   "source": [
    "Kmeans=KMeans(\n",
    "        init=\"k-means++\",\n",
    "        n_clusters=3,\n",
    "        n_init=10,\n",
    "        max_iter=300)\n",
    "y=Kmeans.fit_predict(data)\n",
    "y"
   ]
  },
  {
   "cell_type": "code",
   "execution_count": 148,
   "id": "14e5297f",
   "metadata": {},
   "outputs": [],
   "source": [
    "data=np.array(data)"
   ]
  },
  {
   "cell_type": "markdown",
   "id": "12798648",
   "metadata": {},
   "source": [
    "<h2>Visualising the clusters with their centroids</h2>"
   ]
  },
  {
   "cell_type": "code",
   "execution_count": 155,
   "id": "7bb1f54b",
   "metadata": {},
   "outputs": [
    {
     "data": {
      "text/plain": [
       "<matplotlib.legend.Legend at 0x1eb37426f40>"
      ]
     },
     "execution_count": 155,
     "metadata": {},
     "output_type": "execute_result"
    },
    {
     "data": {
      "image/png": "[encoded data removed]",
      "text/plain": [
       "<Figure size 432x288 with 1 Axes>"
      ]
     },
     "metadata": {
      "needs_background": "light"
     },
     "output_type": "display_data"
    }
   ],
   "source": [
    " plt.scatter(data[y==0, 1], data[y==0, 2], \n",
    "            s = 100, c = 'gray', label = 'Iris-setosa')\n",
    "plt.scatter(data[y== 1, 1], data[y== 1, 2], \n",
    "            s = 100, c = 'black', label = 'Iris-versicolour')\n",
    "plt.scatter(data[y== 2, 1], data[y== 2, 2],\n",
    "            s = 100, c = 'red', label = 'Iris-virginica')\n",
    "#plotting\n",
    "plt.scatter(Kmeans.cluster_centers_[:, 1], Kmeans.cluster_centers_[:,2], \n",
    "            s = 100, c = 'yellow', label = 'Centroids')\n",
    "plt.legend()\n"
   ]
  }
 ],
 "metadata": {
  "kernelspec": {
   "display_name": "Python 3 (ipykernel)",
   "language": "python",
   "name": "python3"
  },
  "language_info": {
   "codemirror_mode": {
    "name": "ipython",
    "version": 3
   },
   "file_extension": ".py",
   "mimetype": "text/x-python",
   "name": "python",
   "nbconvert_exporter": "python",
   "pygments_lexer": "ipython3",
   "version": "3.9.7"
  }
 },
 "nbformat": 4,
 "nbformat_minor": 5
}
